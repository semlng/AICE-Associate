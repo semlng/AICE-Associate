{
 "cells": [
  {
   "cell_type": "markdown",
   "id": "ca3ee189",
   "metadata": {},
   "source": [
    "**<span style=\"font-size: 20px; color: blue\">(Problem 1) Gauss-Jordan Elinination </span>**\n",
    "\n",
    "다음과 같은 성질을 가지는 행렬의 형태를 `Reduced row echelon form`이라 한다.\n",
    "\n",
    "1. 0이 아닌 원소를 갖는 행에서 맨 처음 나오는 0이 아닌 수는 1이어야 한다. 이러한 1을 `leading 1`이라 한다.\n",
    "1. 모든 원소가 0인 행들은 행렬의 아래쪽에 위치한다.\n",
    "1. 0이 아닌 원소를 갖는 행 중에서, 위에 있는 행의 `leading 1`은 아래에 있는 행의 `leading 1`의 왼쪽에 있어야 한다.\n",
    "1. `leading 1`이 있는 열의 나머지 원소들은 모두 0이어야 한다.\n",
    "\n",
    "순수 가우스 소거법이 성공적으로 수행되는 정사각행렬 $A$에 대해 `reduced row echelon form`을 구하고 **단계별 행렬을 출력**하는 함수 Gauss_Jordan()을 정의\n",
    "(힌트: 순수 가우스 소거법이 성공적으로 수행되는 $A$의 역행렬이 존재하면 `reduced row echelon form`은 단위행렬이 된다.)\n",
    "\n",
    "예) <br>\n",
    "$A = \\left[\\begin{array}{rrr} 1 & 2 & 3 \\\\ 2 & 5 & 3 \\\\ 1 & 0 & 8 \\end{array}\\right]$\n",
    "\n",
    "결과:\n",
    "\n",
    "Step 1: $ \\left[\\begin{array}{rrr} 1 & 2 & 3 \\\\ 0 & 1 & -3 \\\\ 0 & -2 & 5 \\end{array}\\right]$\n",
    "\n",
    "Step 2: $ \\left[\\begin{array}{rrr} 1 & 2 & 3 \\\\ 0 & 1 & -3 \\\\ 0 & 0 & -1 \\end{array}\\right]$\n",
    "\n",
    "Step 3: $ \\left[\\begin{array}{rrr} 1 & 2 & 3 \\\\ 0 & 1 & 0  \\\\ 0 & 0 & 1 \\end{array}\\right]$\n",
    "\n",
    "Step 4: $ \\left[\\begin{array}{rrr} 1 & 0 & 0 \\\\ 0 & 1 & 0  \\\\ 0 & 0 & 1 \\end{array}\\right]$"
   ]
  },
  {
   "cell_type": "code",
   "execution_count": 21,
   "id": "7a744669",
   "metadata": {},
   "outputs": [],
   "source": [
    "def Gauss_Jordan(A):\n",
    "    rows = len(A) # 행의 수\n",
    "    cols = len(A[0]) # 열의 수 = 행의 요소 개수\n",
    "\n",
    "    # 단계별 진행\n",
    "    for i in range(rows):\n",
    "        # Step 1: leading 1 만들기\n",
    "        pivot = A[i][i]\n",
    "        if pivot == 0:\n",
    "            for k in range(i+1, rows):\n",
    "                if A[k][i] != 0:\n",
    "                    A[i], A[k] = A[k], A[i]\n",
    "                    pivot = A[i][i]\n",
    "                    break\n",
    "        if pivot != 0:\n",
    "            A[i] = [x / pivot for x in A[i]]\n",
    "\n",
    "        # Step 2: 다른 행에서 현재 열 값 0으로 만들기\n",
    "        for j in range(rows):\n",
    "            if j != i and A[j][i] != 0:\n",
    "                factor = A[j][i]\n",
    "                A[j] = [A[j][x] - factor * A[i][x] for x in range(cols)]\n",
    "\n",
    "        # 단계별 행렬 출력\n",
    "        print(f\"Step {i + 1}:\")\n",
    "        for row in A:\n",
    "            print(row)\n",
    "        print()\n",
    "\n",
    "    return A"
   ]
  },
  {
   "cell_type": "code",
   "execution_count": 23,
   "id": "a4a86cb3-b071-4909-a036-080101305dda",
   "metadata": {},
   "outputs": [
    {
     "name": "stdout",
     "output_type": "stream",
     "text": [
      "Step 1:\n",
      "[1.0, 2.0, 3.0]\n",
      "[0.0, 1.0, -3.0]\n",
      "[0.0, -2.0, 5.0]\n",
      "\n",
      "Step 2:\n",
      "[1.0, 0.0, 9.0]\n",
      "[0.0, 1.0, -3.0]\n",
      "[0.0, 0.0, -1.0]\n",
      "\n",
      "Step 3:\n",
      "[1.0, 0.0, 0.0]\n",
      "[0.0, 1.0, 0.0]\n",
      "[-0.0, -0.0, 1.0]\n",
      "\n"
     ]
    },
    {
     "data": {
      "text/plain": [
       "[[1.0, 0.0, 0.0], [0.0, 1.0, 0.0], [-0.0, -0.0, 1.0]]"
      ]
     },
     "execution_count": 23,
     "metadata": {},
     "output_type": "execute_result"
    }
   ],
   "source": [
    "A = [[1,2,3],\n",
    "     [2,5,3],\n",
    "     [1,0,8]]\n",
    "\n",
    "Gauss_Jordan(A)"
   ]
  },
  {
   "cell_type": "markdown",
   "id": "468770c4",
   "metadata": {},
   "source": [
    "**<span style=\"font-size: 20px; color: blue\">(Problem 2) Gauss-Jordan Elinination을 이용한 역행렬 계산 </span>**\n",
    "\n",
    "순수 가우스 소거법이 성공적으로 수행되는 정사각행렬 $A$를 단위행렬로 만드는 연산을 단위행렬 $I$에 똑같이 수행하면 역행렬을 얻을 수 있다.\n",
    "\n",
    "Gauss-Jordan Elimination을 이용하여 행렬의 역행렬을 구하는 `inverse_Gauss_Jordan()`을 정의\n",
    "\n",
    "예)\n",
    "\n",
    "$A = \\left[\\begin{array}{rrr} 1 & 2 & 3 \\\\ 2 & 5 & 3 \\\\ 1 & 0 & 8 \\end{array}\\right],\\qquad I = \\left[\\begin{array}{rrr} 1 & 0 & 0 \\\\ 0 & 1 & 0 \\\\ 0 & 0 & 1 \\end{array}\\right]$\n",
    "\n",
    "Step 1: 2행 $-$ 2$\\times$ 1행 // 3행 $-$ 1행\n",
    "\n",
    "$A = \\left[\\begin{array}{rrr} 1 & 2 & 3 \\\\ 0 & 1 & -3 \\\\ 0 & -2 & 5 \\end{array}\\right],\\qquad I = \\left[\\begin{array}{rrr} 1 & 0 & 0 \\\\ -2 & 1 & 0 \\\\ -1 & 0 & 1 \\end{array}\\right]$\n",
    "\n",
    "Step 2: 3행 \n",
    "$+$ 2$\\times$ 2행\n",
    "\n",
    "$A = \\left[\\begin{array}{rrr} 1 & 2 & 3 \\\\ 0 & 1 & -3 \\\\ 0 & 0 & -1 \\end{array}\\right],\\qquad I = \\left[\\begin{array}{rrr} 1 & 0 & 0 \\\\ -2 & 1 & 0 \\\\ -5 & 2 & 1 \\end{array}\\right]$\n",
    "\n",
    "Step 3: 3행 $/ -1$ // 2행 $- 3 \\times$ 3행 // 1행 $+ 3\\times$3행\n",
    "\n",
    "$A = \\left[\\begin{array}{rrr} 1 & 2 & 0 \\\\ 0 & 1 & 0 \\\\ 0 & 0 & 1 \\end{array}\\right],\\qquad I = \\left[\\begin{array}{rrr} -14 & 6 & 3 \\\\ 13 & -5 & -3 \\\\ 5 & -2 & -1 \\end{array}\\right]$\n",
    "\n",
    "Step 3: 2행 $/ 1$ // 1행 $- 2\\times$2행\n",
    "\n",
    "$A = \\left[\\begin{array}{rrr} 1 & 0 & 0 \\\\ 0 & 1 & 0 \\\\ 0 & 0 & 1 \\end{array}\\right],\\qquad I = \\left[\\begin{array}{rrr} -40& 16 & 9 \\\\ 13 & -5 & -3 \\\\ 5 & -2 & -1 \\end{array}\\right]$"
   ]
  },
  {
   "cell_type": "code",
   "execution_count": 24,
   "id": "2f8f4857",
   "metadata": {},
   "outputs": [],
   "source": [
    "def inverse_Gauss_Jordan(A):\n",
    "    rows = len(A)\n",
    "\n",
    "    # 단위 행렬 추가\n",
    "    augmented_matrix = [A[i] + [1 if i == j else 0 for j in range(rows)] for i in range(rows)]\n",
    "\n",
    "    # 가우스-조르단 소거법\n",
    "    reduced_matrix = Gauss_Jordan(augmented_matrix)\n",
    "\n",
    "    # 역행렬 추출\n",
    "    inverse_matrix = [row[rows:] for row in reduced_matrix]\n",
    "\n",
    "    return inverse_matrix"
   ]
  },
  {
   "cell_type": "code",
   "execution_count": 25,
   "id": "24c1ab1f-15e3-44c1-9b36-0df386d52bfa",
   "metadata": {},
   "outputs": [
    {
     "name": "stdout",
     "output_type": "stream",
     "text": [
      "Step 1:\n",
      "[1.0, 2.0, 3.0, 1.0, 0.0, 0.0]\n",
      "[0.0, 1.0, -3.0, -2.0, 1.0, 0.0]\n",
      "[0.0, -2.0, 5.0, -1.0, 0.0, 1.0]\n",
      "\n",
      "Step 2:\n",
      "[1.0, 0.0, 9.0, 5.0, -2.0, 0.0]\n",
      "[0.0, 1.0, -3.0, -2.0, 1.0, 0.0]\n",
      "[0.0, 0.0, -1.0, -5.0, 2.0, 1.0]\n",
      "\n",
      "Step 3:\n",
      "[1.0, 0.0, 0.0, -40.0, 16.0, 9.0]\n",
      "[0.0, 1.0, 0.0, 13.0, -5.0, -3.0]\n",
      "[-0.0, -0.0, 1.0, 5.0, -2.0, -1.0]\n",
      "\n",
      "[-40.0, 16.0, 9.0]\n",
      "[13.0, -5.0, -3.0]\n",
      "[5.0, -2.0, -1.0]\n"
     ]
    }
   ],
   "source": [
    "A = [[1,2,3],\n",
    "     [2,5,3],\n",
    "     [1,0,8]]\n",
    "\n",
    "result = inverse_Gauss_Jordan(A)\n",
    "\n",
    "for row in result:\n",
    "    print(row)"
   ]
  }
 ],
 "metadata": {
  "kernelspec": {
   "display_name": "Python 3 (ipykernel)",
   "language": "python",
   "name": "python3"
  },
  "language_info": {
   "codemirror_mode": {
    "name": "ipython",
    "version": 3
   },
   "file_extension": ".py",
   "mimetype": "text/x-python",
   "name": "python",
   "nbconvert_exporter": "python",
   "pygments_lexer": "ipython3",
   "version": "3.12.7"
  },
  "toc": {
   "base_numbering": 1,
   "nav_menu": {},
   "number_sections": true,
   "sideBar": true,
   "skip_h1_title": false,
   "title_cell": "Table of Contents",
   "title_sidebar": "Contents",
   "toc_cell": false,
   "toc_position": {},
   "toc_section_display": true,
   "toc_window_display": false
  },
  "varInspector": {
   "cols": {
    "lenName": 16,
    "lenType": 16,
    "lenVar": 40
   },
   "kernels_config": {
    "python": {
     "delete_cmd_postfix": "",
     "delete_cmd_prefix": "del ",
     "library": "var_list.py",
     "varRefreshCmd": "print(var_dic_list())"
    },
    "r": {
     "delete_cmd_postfix": ") ",
     "delete_cmd_prefix": "rm(",
     "library": "var_list.r",
     "varRefreshCmd": "cat(var_dic_list()) "
    }
   },
   "types_to_exclude": [
    "module",
    "function",
    "builtin_function_or_method",
    "instance",
    "_Feature"
   ],
   "window_display": false
  }
 },
 "nbformat": 4,
 "nbformat_minor": 5
}
