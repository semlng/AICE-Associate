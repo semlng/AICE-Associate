{
 "cells": [
  {
   "cell_type": "markdown",
   "id": "7052c3f4",
   "metadata": {},
   "source": [
    "**<span style=\"font-size: 20px; color: blue\">(Problem 1) 다항함수의 미분 계수 </span>**\n",
    "\n",
    "다항함수 $f(x)$의 $x=a$에서의 미분계수 $f'(a)$를 계산하는 함수를 `for문`과 `재귀알고리즘`의 두 가지 형태로 작성\n",
    "\n",
    "- 다항함수는 리스트의 형태로 index가 $i$인 위치의 값이 $x^i$의 계수가 되도록 입력 <br> (예: $y = x^2 + 2x + 3 \\quad \\Rightarrow \\quad$ f = [3,2,1])\n",
    "- 입력: 다항함수 리스트 $f$, $a$\n",
    "- 출력: $f'(a)$\n",
    "\n",
    "예) <br>\n",
    "base_n([1,1,1],2) -> 출력: 5\n",
    "<br>\n",
    "base_n([1,0,1,0,1],1) -> 출력: 6\n",
    "\n",
    "---\n",
    "\n",
    "**1. for문을 이용**하여 $f'(a)$를 계산하는 함수를 작성"
   ]
  },
  {
   "cell_type": "code",
   "execution_count": 12,
   "id": "923b74bf-6f45-4200-aacb-499b7bc2f826",
   "metadata": {},
   "outputs": [],
   "source": [
    "def differential_coefficient_f(f, a):\n",
    "    result = 0\n",
    "    for i in range(1, len(f)):\n",
    "        result += i * f[i] * (a ** (i - 1))\n",
    "    return result"
   ]
  },
  {
   "cell_type": "code",
   "execution_count": 14,
   "id": "bfe40c06",
   "metadata": {},
   "outputs": [
    {
     "data": {
      "text/plain": [
       "5"
      ]
     },
     "execution_count": 14,
     "metadata": {},
     "output_type": "execute_result"
    }
   ],
   "source": [
    "differential_coefficient_f([1,1,1],2)"
   ]
  },
  {
   "cell_type": "code",
   "execution_count": 16,
   "id": "91da9255",
   "metadata": {},
   "outputs": [
    {
     "data": {
      "text/plain": [
       "6"
      ]
     },
     "execution_count": 16,
     "metadata": {},
     "output_type": "execute_result"
    }
   ],
   "source": [
    "differential_coefficient_f([1,0,1,0,1],1)"
   ]
  },
  {
   "cell_type": "markdown",
   "id": "21012c70",
   "metadata": {},
   "source": [
    "**2. 재귀알고리즘을 이용**하여 하여 $f'(a)$를 계산하는 함수를 작성"
   ]
  },
  {
   "cell_type": "code",
   "execution_count": 18,
   "id": "0c6e0e31-cd1e-464d-acda-a48c47d5039c",
   "metadata": {},
   "outputs": [],
   "source": [
    "def differential_coefficient_r(f, a, i=1):\n",
    "    if i >= len(f): return 0\n",
    "    return i * f[i] * (a ** (i-1)) + differential_coefficient_r(f, a, i+1)"
   ]
  },
  {
   "cell_type": "code",
   "execution_count": 20,
   "id": "762ea429",
   "metadata": {},
   "outputs": [
    {
     "data": {
      "text/plain": [
       "5"
      ]
     },
     "execution_count": 20,
     "metadata": {},
     "output_type": "execute_result"
    }
   ],
   "source": [
    "differential_coefficient_r([1,1,1],2)"
   ]
  },
  {
   "cell_type": "code",
   "execution_count": 22,
   "id": "aac72d82",
   "metadata": {},
   "outputs": [
    {
     "data": {
      "text/plain": [
       "6"
      ]
     },
     "execution_count": 22,
     "metadata": {},
     "output_type": "execute_result"
    }
   ],
   "source": [
    "differential_coefficient_r([1,0,1,0,1],1)"
   ]
  },
  {
   "cell_type": "markdown",
   "id": "acdf8b39",
   "metadata": {},
   "source": [
    "**<span style=\"font-size: 20px; color: blue\">(Problem 2) 선택 정렬 </span>**\n",
    "\n",
    "입력된 리스트를 오름차순으로 정렬하는 선택 정렬 알고리즘을 `재귀알고리즘`의 형태로 작성\n",
    "\n",
    "- `theLargest` 함수 이용\n",
    "- 입력: 리스트 A\n",
    "- 출력: 없음\n",
    "\n",
    "예) <br>\n",
    "```\n",
    "A = [64, 25, 12, 22, 11]\n",
    "selection_sort_r(A)\n",
    "print(A)\n",
    "\n",
    "-> [11, 12, 22, 25, 64]\n",
    "```"
   ]
  },
  {
   "cell_type": "code",
   "execution_count": 24,
   "id": "9ea6170a",
   "metadata": {},
   "outputs": [],
   "source": [
    "def theLargest(A, last):\n",
    "    largest = 0\n",
    "    for i in range(1, last+1):\n",
    "        if A[largest] < A[i]:\n",
    "            largest = i\n",
    "    return largest"
   ]
  },
  {
   "cell_type": "code",
   "execution_count": 26,
   "id": "86e84582",
   "metadata": {},
   "outputs": [],
   "source": [
    "def selection_sort_r(A, last=None):\n",
    "    if last is None:\n",
    "        last = len(A)-1\n",
    "        \n",
    "    if last <= 0:\n",
    "        return A\n",
    "\n",
    "    largest = theLargest(A, last)\n",
    "    A[last], A[largest] = A[largest], A[last]  # 최댓값과 현재 마지막 위치의 값 교환\n",
    "    \n",
    "    return selection_sort_r(A, last-1)"
   ]
  },
  {
   "cell_type": "code",
   "execution_count": 28,
   "id": "ccb62ea9",
   "metadata": {},
   "outputs": [
    {
     "name": "stdout",
     "output_type": "stream",
     "text": [
      "[11, 12, 22, 25, 64]\n"
     ]
    }
   ],
   "source": [
    "A = [64, 25, 12, 22, 11]\n",
    "selection_sort_r(A)\n",
    "print(A)"
   ]
  },
  {
   "cell_type": "markdown",
   "id": "cd594c29",
   "metadata": {},
   "source": [
    "**<span style=\"font-size: 20px; color: blue\">(Problem 3) 버블 정렬 </span>**\n",
    "\n",
    "입력된 리스트를 오름차순으로 정렬하는 버블 정렬 알고리즘을 `재귀알고리즘`의 형태로 작성\n",
    "\n",
    "- 입력: 리스트 A\n",
    "- 출력: 없음\n",
    "\n",
    "예) <br>\n",
    "```\n",
    "A = [64, 25, 12, 22, 11]\n",
    "bubble_sort_r(A)\n",
    "print(A)\n",
    "\n",
    "-> [11, 12, 22, 25, 64]\n",
    "```"
   ]
  },
  {
   "cell_type": "code",
   "execution_count": 30,
   "id": "f989ff89-6afa-43a2-a09b-d420195440fd",
   "metadata": {},
   "outputs": [],
   "source": [
    "def bubble_sort_r(A, left=0, right=None):\n",
    "    if right is None:\n",
    "        right = len(A) - 1\n",
    "\n",
    "    if left >= right:\n",
    "        return A\n",
    "\n",
    "    last = right\n",
    "    for i in range(right, left, -1):\n",
    "        if A[i-1] > A[i]:\n",
    "            A[i-1], A[i] = A[i], A[i-1]\n",
    "            last = i\n",
    "\n",
    "    for j in range(left, right):\n",
    "        if A[j] > A[j+1]:\n",
    "            A[j], A[j+1] = A[j+1], A[j]\n",
    "            last = j\n",
    "\n",
    "    return bubble_sort_r(A, left+1, right-1)"
   ]
  },
  {
   "cell_type": "code",
   "execution_count": 32,
   "id": "9c5e9687",
   "metadata": {},
   "outputs": [
    {
     "name": "stdout",
     "output_type": "stream",
     "text": [
      "[11, 12, 22, 25, 64]\n"
     ]
    }
   ],
   "source": [
    "A = [64, 25, 12, 22, 11]\n",
    "sorted_A = bubble_sort_r(A)\n",
    "print(sorted_A)"
   ]
  },
  {
   "cell_type": "code",
   "execution_count": 34,
   "id": "116353d4-e1d1-457a-a664-fd1dd5eb2426",
   "metadata": {},
   "outputs": [],
   "source": [
    "def bubble_sort(A):\n",
    "    n = len(A)\n",
    "    for i in range(n-1):\n",
    "        for j in range(n-1, i, -1):\n",
    "            if A[j] > A[j-1]:\n",
    "                A[j], A[j-1] = A[j-1], A[j]\n",
    "    return A"
   ]
  },
  {
   "cell_type": "code",
   "execution_count": 36,
   "id": "4f6d3eb2-a1eb-4902-a707-f2ba3dcd0193",
   "metadata": {},
   "outputs": [
    {
     "name": "stdout",
     "output_type": "stream",
     "text": [
      "[64, 25, 22, 12, 11]\n"
     ]
    }
   ],
   "source": [
    "A = [64, 25, 12, 22, 11]\n",
    "sorted_A = bubble_sort(A)\n",
    "print(sorted_A)"
   ]
  },
  {
   "cell_type": "markdown",
   "id": "ae56f984",
   "metadata": {},
   "source": [
    "**<span style=\"font-size: 20px; color: blue\">(Problem 4) 삽입 정렬 </span>**\n",
    "\n",
    "입력된 리스트를 오름차순으로 정렬하는 삽입 정렬 알고리즘을 `재귀알고리즘`의 형태로 작성\n",
    "\n",
    "- 입력: 리스트 A\n",
    "- 출력: 없음\n",
    "\n",
    "예) <br>\n",
    "```\n",
    "A = [64, 25, 12, 22, 11]\n",
    "insertion_sort_r(A)\n",
    "print(A)\n",
    "\n",
    "-> [11, 12, 22, 25, 64]\n",
    "```"
   ]
  },
  {
   "cell_type": "code",
   "execution_count": 38,
   "id": "f9660a8f",
   "metadata": {},
   "outputs": [],
   "source": [
    "def insertion_sort_r(A, n = None):\n",
    "    if n is None: n = len(A)\n",
    "    if n <= 1: return A\n",
    "\n",
    "    insertion_sort_r(A, n-1)\n",
    "\n",
    "    last = A[n - 1]\n",
    "    j = n - 2\n",
    "    \n",
    "    while j >= 0 and A[j] > last:\n",
    "        A[j+1] = A[j]\n",
    "        j -= 1\n",
    "    A[j+1] = last\n",
    "    \n",
    "    return A"
   ]
  },
  {
   "cell_type": "code",
   "execution_count": 40,
   "id": "c59f453e",
   "metadata": {
    "scrolled": true
   },
   "outputs": [
    {
     "name": "stdout",
     "output_type": "stream",
     "text": [
      "[11, 12, 22, 25, 64]\n"
     ]
    }
   ],
   "source": [
    "A = [64, 25, 12, 22, 11]\n",
    "insertion_sort_r(A)\n",
    "print(A)"
   ]
  },
  {
   "cell_type": "code",
   "execution_count": 42,
   "id": "c9336d83-9767-40f2-b8ab-be08805ac9a4",
   "metadata": {},
   "outputs": [],
   "source": [
    "def qsort(A, left, right):\n",
    "    pl = left # 왼쪽 커서\n",
    "    pr = right # 오른쪽 커서\n",
    "    x = A[(left+right) // 2] # 피벗: 가운데 원소\n",
    "\n",
    "    while pl <= pr:\n",
    "        while A[pl] < x: pl += 1\n",
    "        while A[pr] > x: pr -= 1\n",
    "        if pl <= pr:\n",
    "            A[pl], A[pr] = A[pr], A[pl]\n",
    "            pl += 1\n",
    "            pr -= 1\n",
    "\n",
    "        if left < pr: qsort(A, left, pr)\n",
    "        if pl < right: qsort(A, pl, right)\n",
    "\n",
    "def quick_sort(A):\n",
    "    qsort(A, 0, len(A)-1)"
   ]
  },
  {
   "cell_type": "code",
   "execution_count": 44,
   "id": "2bef474d-1af2-47e5-b1d8-921f12e31936",
   "metadata": {},
   "outputs": [
    {
     "data": {
      "text/plain": [
       "[11, 12, 22, 25, 64]"
      ]
     },
     "execution_count": 44,
     "metadata": {},
     "output_type": "execute_result"
    }
   ],
   "source": [
    "A = [64, 25, 12, 22, 11]\n",
    "quick_sort(A)\n",
    "A"
   ]
  }
 ],
 "metadata": {
  "kernelspec": {
   "display_name": "Python 3 (ipykernel)",
   "language": "python",
   "name": "python3"
  },
  "language_info": {
   "codemirror_mode": {
    "name": "ipython",
    "version": 3
   },
   "file_extension": ".py",
   "mimetype": "text/x-python",
   "name": "python",
   "nbconvert_exporter": "python",
   "pygments_lexer": "ipython3",
   "version": "3.12.7"
  },
  "toc": {
   "base_numbering": 1,
   "nav_menu": {},
   "number_sections": true,
   "sideBar": true,
   "skip_h1_title": false,
   "title_cell": "Table of Contents",
   "title_sidebar": "Contents",
   "toc_cell": false,
   "toc_position": {},
   "toc_section_display": true,
   "toc_window_display": false
  },
  "varInspector": {
   "cols": {
    "lenName": 16,
    "lenType": 16,
    "lenVar": 40
   },
   "kernels_config": {
    "python": {
     "delete_cmd_postfix": "",
     "delete_cmd_prefix": "del ",
     "library": "var_list.py",
     "varRefreshCmd": "print(var_dic_list())"
    },
    "r": {
     "delete_cmd_postfix": ") ",
     "delete_cmd_prefix": "rm(",
     "library": "var_list.r",
     "varRefreshCmd": "cat(var_dic_list()) "
    }
   },
   "types_to_exclude": [
    "module",
    "function",
    "builtin_function_or_method",
    "instance",
    "_Feature"
   ],
   "window_display": false
  }
 },
 "nbformat": 4,
 "nbformat_minor": 5
}
